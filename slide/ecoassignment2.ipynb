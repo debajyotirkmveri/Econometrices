{
 "cells": [
  {
   "cell_type": "code",
   "execution_count": 1,
   "id": "46b658be-6baa-42a8-814c-e0a70f8e8ed3",
   "metadata": {},
   "outputs": [],
   "source": [
    "import numpy as np\n",
    "import pandas as pd\n",
    "from sklearn.linear_model import LogisticRegression\n",
    "from sklearn.model_selection import train_test_split\n",
    "from sklearn.metrics import accuracy_score\n",
    "\n",
    "# Set a random seed for reproducibility\n",
    "np.random.seed(42)"
   ]
  },
  {
   "cell_type": "code",
   "execution_count": 2,
   "id": "7bf5b2d7-580a-4139-a7d2-592d69d58b8c",
   "metadata": {},
   "outputs": [],
   "source": [
    "# Generate synthetic data\n",
    "n = 100\n",
    "x = np.random.normal(5, 5, n)\n",
    "y = (x > 7).astype(int)"
   ]
  },
  {
   "cell_type": "code",
   "execution_count": 3,
   "id": "679145d0-4b79-48d7-8ecc-f8c00cc8ba1d",
   "metadata": {},
   "outputs": [
    {
     "data": {
      "text/plain": [
       "array([ 7.48357077,  4.30867849,  8.23844269, 12.61514928,  3.82923313,\n",
       "        3.82931522, 12.89606408,  8.83717365,  2.65262807,  7.71280022,\n",
       "        2.68291154,  2.67135123,  6.20981136, -4.56640122, -3.62458916,\n",
       "        2.18856235, -0.0641556 ,  6.57123666,  0.45987962, -2.06151851,\n",
       "       12.32824384,  3.8711185 ,  5.33764102, -2.12374093,  2.27808638,\n",
       "        5.55461295, -0.75496789,  6.87849009,  1.99680655,  3.54153125,\n",
       "        1.99146694, 14.26139092,  4.93251388, -0.28855464,  9.11272456,\n",
       "       -1.10421825,  6.04431798, -4.79835062, -1.64093024,  5.98430618,\n",
       "        8.6923329 ,  5.85684141,  4.42175859,  3.49448152, -2.39260995,\n",
       "        1.40077896,  2.69680615, 10.28561113,  6.71809145, -3.81520078,\n",
       "        6.62041985,  3.0745886 ,  1.61539   ,  8.05838144, 10.15499761,\n",
       "        9.6564006 ,  0.80391238,  3.45393812,  6.65631716,  9.87772564,\n",
       "        2.60412881,  4.07170512, -0.53167487, -0.98103312,  9.06262911,\n",
       "       11.78120014,  4.63994939, 10.01766449,  6.80818013,  1.77440123,\n",
       "        6.80697803, 12.69018283,  4.8208698 , 12.82321828, -8.09872552,\n",
       "        9.10951252,  5.43523534,  3.50496325,  5.45880388, -4.93784457,\n",
       "        3.90164056,  6.78556286, 12.38947022,  2.40864891,  0.95753199,\n",
       "        2.49121478,  9.57701059,  6.64375555,  2.35119898,  7.56633717,\n",
       "        5.48538775,  9.84322495,  1.48973453,  3.36168927,  3.03945923,\n",
       "       -2.31757474,  6.48060139,  6.30527636,  5.02556728,  3.82706433])"
      ]
     },
     "execution_count": 3,
     "metadata": {},
     "output_type": "execute_result"
    }
   ],
   "source": [
    "x"
   ]
  },
  {
   "cell_type": "code",
   "execution_count": 5,
   "id": "96f42a89-a440-4f37-8682-991c82e6bd4c",
   "metadata": {},
   "outputs": [
    {
     "data": {
      "text/plain": [
       "array([1, 0, 1, 1, 0, 0, 1, 1, 0, 1, 0, 0, 0, 0, 0, 0, 0, 0, 0, 0, 1, 0,\n",
       "       0, 0, 0, 0, 0, 0, 0, 0, 0, 1, 0, 0, 1, 0, 0, 0, 0, 0, 1, 0, 0, 0,\n",
       "       0, 0, 0, 1, 0, 0, 0, 0, 0, 1, 1, 1, 0, 0, 0, 1, 0, 0, 0, 0, 1, 1,\n",
       "       0, 1, 0, 0, 0, 1, 0, 1, 0, 1, 0, 0, 0, 0, 0, 0, 1, 0, 0, 0, 1, 0,\n",
       "       0, 1, 0, 1, 0, 0, 0, 0, 0, 0, 0, 0])"
      ]
     },
     "execution_count": 5,
     "metadata": {},
     "output_type": "execute_result"
    }
   ],
   "source": [
    "y = (x > 7).astype(int)\n",
    "y"
   ]
  },
  {
   "cell_type": "code",
   "execution_count": 6,
   "id": "2c944ce5-65c2-4ac5-9ac2-6d773a06ebab",
   "metadata": {},
   "outputs": [
    {
     "data": {
      "text/plain": [
       "array([1, 0, 1, 1, 0, 0, 1, 1, 0, 1, 0, 0, 0, 0, 0, 0, 0, 0, 0, 0, 1, 0,\n",
       "       0, 0, 0, 0, 0, 0, 0, 0, 0, 1, 0, 0, 1, 0, 0, 0, 0, 0, 1, 0, 0, 0,\n",
       "       0, 0, 0, 1, 0, 0, 0, 0, 0, 1, 1, 1, 0, 0, 0, 1, 0, 0, 0, 0, 1, 1,\n",
       "       0, 1, 0, 0, 0, 1, 0, 1, 0, 1, 0, 0, 0, 0, 0, 0, 1, 0, 0, 0, 1, 0,\n",
       "       0, 1, 0, 1, 0, 0, 0, 0, 0, 0, 0, 0])"
      ]
     },
     "execution_count": 6,
     "metadata": {},
     "output_type": "execute_result"
    }
   ],
   "source": [
    "(x>7).astype(int)"
   ]
  },
  {
   "cell_type": "code",
   "execution_count": 8,
   "id": "7f68738c-c058-44d7-8837-4ed3001860c6",
   "metadata": {},
   "outputs": [
    {
     "data": {
      "text/html": [
       "<div>\n",
       "<style scoped>\n",
       "    .dataframe tbody tr th:only-of-type {\n",
       "        vertical-align: middle;\n",
       "    }\n",
       "\n",
       "    .dataframe tbody tr th {\n",
       "        vertical-align: top;\n",
       "    }\n",
       "\n",
       "    .dataframe thead th {\n",
       "        text-align: right;\n",
       "    }\n",
       "</style>\n",
       "<table border=\"1\" class=\"dataframe\">\n",
       "  <thead>\n",
       "    <tr style=\"text-align: right;\">\n",
       "      <th></th>\n",
       "      <th>x</th>\n",
       "      <th>y</th>\n",
       "    </tr>\n",
       "  </thead>\n",
       "  <tbody>\n",
       "    <tr>\n",
       "      <th>0</th>\n",
       "      <td>7.483571</td>\n",
       "      <td>1</td>\n",
       "    </tr>\n",
       "    <tr>\n",
       "      <th>1</th>\n",
       "      <td>4.308678</td>\n",
       "      <td>0</td>\n",
       "    </tr>\n",
       "    <tr>\n",
       "      <th>2</th>\n",
       "      <td>8.238443</td>\n",
       "      <td>1</td>\n",
       "    </tr>\n",
       "    <tr>\n",
       "      <th>3</th>\n",
       "      <td>12.615149</td>\n",
       "      <td>1</td>\n",
       "    </tr>\n",
       "    <tr>\n",
       "      <th>4</th>\n",
       "      <td>3.829233</td>\n",
       "      <td>0</td>\n",
       "    </tr>\n",
       "    <tr>\n",
       "      <th>...</th>\n",
       "      <td>...</td>\n",
       "      <td>...</td>\n",
       "    </tr>\n",
       "    <tr>\n",
       "      <th>95</th>\n",
       "      <td>-2.317575</td>\n",
       "      <td>0</td>\n",
       "    </tr>\n",
       "    <tr>\n",
       "      <th>96</th>\n",
       "      <td>6.480601</td>\n",
       "      <td>0</td>\n",
       "    </tr>\n",
       "    <tr>\n",
       "      <th>97</th>\n",
       "      <td>6.305276</td>\n",
       "      <td>0</td>\n",
       "    </tr>\n",
       "    <tr>\n",
       "      <th>98</th>\n",
       "      <td>5.025567</td>\n",
       "      <td>0</td>\n",
       "    </tr>\n",
       "    <tr>\n",
       "      <th>99</th>\n",
       "      <td>3.827064</td>\n",
       "      <td>0</td>\n",
       "    </tr>\n",
       "  </tbody>\n",
       "</table>\n",
       "<p>100 rows × 2 columns</p>\n",
       "</div>"
      ],
      "text/plain": [
       "            x  y\n",
       "0    7.483571  1\n",
       "1    4.308678  0\n",
       "2    8.238443  1\n",
       "3   12.615149  1\n",
       "4    3.829233  0\n",
       "..        ... ..\n",
       "95  -2.317575  0\n",
       "96   6.480601  0\n",
       "97   6.305276  0\n",
       "98   5.025567  0\n",
       "99   3.827064  0\n",
       "\n",
       "[100 rows x 2 columns]"
      ]
     },
     "execution_count": 8,
     "metadata": {},
     "output_type": "execute_result"
    }
   ],
   "source": [
    "# Create a DataFrame\n",
    "data = pd.DataFrame({'x': x, 'y': y})\n",
    "data"
   ]
  },
  {
   "cell_type": "code",
   "execution_count": 9,
   "id": "f716402c-7e20-4020-9636-a0abfbd11b39",
   "metadata": {},
   "outputs": [],
   "source": [
    "# Split the data into training and testing sets\n",
    "X_train, X_test, y_train, y_test = train_test_split(data[['x']], data['y'], test_size=0.2, random_state=42)"
   ]
  },
  {
   "cell_type": "code",
   "execution_count": 10,
   "id": "265bcc92-1047-47a5-b815-56d207c61ce5",
   "metadata": {},
   "outputs": [],
   "source": [
    "# Logistic Regression\n",
    "logistic_reg_model = LogisticRegression()\n",
    "logistic_reg_model.fit(X_train, y_train)\n",
    "logistic_reg_predictions = logistic_reg_model.predict(X_test)\n",
    "logistic_reg_accuracy = accuracy_score(y_test, logistic_reg_predictions)"
   ]
  },
  {
   "cell_type": "code",
   "execution_count": 11,
   "id": "f10a8c5a-b184-4603-85b5-4a134ae56e6a",
   "metadata": {},
   "outputs": [
    {
     "name": "stdout",
     "output_type": "stream",
     "text": [
      "Logistic Regression Accuracy: 0.95\n",
      "Logistic Regression Prediction for xi=9: 1\n"
     ]
    },
    {
     "name": "stderr",
     "output_type": "stream",
     "text": [
      "/home/sysadm/anaconda3/lib/python3.11/site-packages/sklearn/base.py:439: UserWarning: X does not have valid feature names, but LogisticRegression was fitted with feature names\n",
      "  warnings.warn(\n"
     ]
    }
   ],
   "source": [
    "# Compare the models\n",
    "print(f\"Logistic Regression Accuracy: {logistic_reg_accuracy}\")\n",
    "\n",
    "# Predict yi for a new observation xi = 9\n",
    "new_x = np.array([[9]])\n",
    "logistic_reg_y_new = logistic_reg_model.predict(new_x)\n",
    "\n",
    "print(f\"Logistic Regression Prediction for xi=9: {logistic_reg_y_new[0]}\")"
   ]
  },
  {
   "cell_type": "code",
   "execution_count": null,
   "id": "9e7aab7d-46b9-48cd-804b-f2ddef3b8011",
   "metadata": {},
   "outputs": [],
   "source": []
  },
  {
   "cell_type": "code",
   "execution_count": 12,
   "id": "48db9697-d40e-4c4f-92ae-99d14ca1980a",
   "metadata": {},
   "outputs": [
    {
     "name": "stdout",
     "output_type": "stream",
     "text": [
      "Logistic Regression Accuracy: 0.95\n",
      "Logistic Regression Prediction for xi=9: 1\n"
     ]
    },
    {
     "name": "stderr",
     "output_type": "stream",
     "text": [
      "/home/sysadm/anaconda3/lib/python3.11/site-packages/sklearn/base.py:439: UserWarning: X does not have valid feature names, but LogisticRegression was fitted with feature names\n",
      "  warnings.warn(\n"
     ]
    }
   ],
   "source": [
    "import numpy as np\n",
    "import pandas as pd\n",
    "from sklearn.linear_model import LogisticRegression\n",
    "from sklearn.model_selection import train_test_split\n",
    "from sklearn.metrics import accuracy_score\n",
    "\n",
    "# Set a random seed for reproducibility\n",
    "np.random.seed(42)\n",
    "\n",
    "# Generate synthetic data\n",
    "n = 100\n",
    "x = np.random.normal(5, 5, n)\n",
    "y = (x > 7).astype(int)\n",
    "\n",
    "# Create a DataFrame\n",
    "data = pd.DataFrame({'x': x, 'y': y})\n",
    "\n",
    "# Split the data into training and testing sets\n",
    "X_train, X_test, y_train, y_test = train_test_split(data[['x']], data['y'], test_size=0.2, random_state=42)\n",
    "\n",
    "# Logistic Regression\n",
    "logistic_reg_model = LogisticRegression()\n",
    "logistic_reg_model.fit(X_train, y_train)\n",
    "logistic_reg_predictions = logistic_reg_model.predict(X_test)\n",
    "logistic_reg_accuracy = accuracy_score(y_test, logistic_reg_predictions)\n",
    "\n",
    "# Compare the models\n",
    "print(f\"Logistic Regression Accuracy: {logistic_reg_accuracy}\")\n",
    "\n",
    "# Predict yi for a new observation xi = 9\n",
    "new_x = np.array([[9]])\n",
    "logistic_reg_y_new = logistic_reg_model.predict(new_x)\n",
    "\n",
    "print(f\"Logistic Regression Prediction for xi=9: {logistic_reg_y_new[0]}\")\n"
   ]
  },
  {
   "cell_type": "code",
   "execution_count": 13,
   "id": "80318ac9-23a8-4c60-9fbd-fd64b0dd5804",
   "metadata": {},
   "outputs": [
    {
     "name": "stdout",
     "output_type": "stream",
     "text": [
      "Linear Regression Prediction for xi=9: 0.5667024749077774\n"
     ]
    },
    {
     "name": "stderr",
     "output_type": "stream",
     "text": [
      "/home/sysadm/anaconda3/lib/python3.11/site-packages/sklearn/base.py:439: UserWarning: X does not have valid feature names, but LinearRegression was fitted with feature names\n",
      "  warnings.warn(\n"
     ]
    }
   ],
   "source": [
    "import numpy as np\n",
    "import pandas as pd\n",
    "from sklearn.linear_model import LinearRegression\n",
    "\n",
    "# Set a random seed for reproducibility\n",
    "np.random.seed(42)\n",
    "\n",
    "# Generate synthetic data\n",
    "n = 100\n",
    "x = np.random.normal(5, 5, n)\n",
    "y = (x > 7).astype(int)\n",
    "\n",
    "# Create a DataFrame\n",
    "data = pd.DataFrame({'x': x, 'y': y})\n",
    "\n",
    "# Fit a Linear Regression model\n",
    "X = data[['x']]\n",
    "y = data['y']\n",
    "\n",
    "linear_reg_model = LinearRegression()\n",
    "linear_reg_model.fit(X, y)\n",
    "\n",
    "# Predict yi for a new observation xi = 9\n",
    "new_x = np.array([[9]])\n",
    "linear_reg_y_new = linear_reg_model.predict(new_x)\n",
    "\n",
    "print(f\"Linear Regression Prediction for xi=9: {linear_reg_y_new[0]}\")\n"
   ]
  },
  {
   "cell_type": "code",
   "execution_count": 14,
   "id": "6b6c6b3b-dbce-40af-a74a-5a10363c36f6",
   "metadata": {},
   "outputs": [
    {
     "name": "stdout",
     "output_type": "stream",
     "text": [
      "Linear Regression Prediction for xi=9: 1\n",
      "Logistic Regression Prediction for xi=9: [1]\n"
     ]
    },
    {
     "name": "stderr",
     "output_type": "stream",
     "text": [
      "/home/sysadm/anaconda3/lib/python3.11/site-packages/sklearn/base.py:439: UserWarning: X does not have valid feature names, but LinearRegression was fitted with feature names\n",
      "  warnings.warn(\n",
      "/home/sysadm/anaconda3/lib/python3.11/site-packages/sklearn/base.py:439: UserWarning: X does not have valid feature names, but LogisticRegression was fitted with feature names\n",
      "  warnings.warn(\n"
     ]
    }
   ],
   "source": [
    "# New observation xi = 9\n",
    "new_x = np.array([[9]])\n",
    "\n",
    "# Predict yi using the Linear Regression model\n",
    "linear_reg_y_new = linear_reg_model.predict(new_x)\n",
    "linear_reg_y_new = 1 if linear_reg_y_new[0] > 0.5 else 0\n",
    "\n",
    "# Predict yi using the Logistic Regression model\n",
    "logistic_reg_y_new = logistic_reg_model.predict(new_x)\n",
    "\n",
    "print(f\"Linear Regression Prediction for xi=9: {linear_reg_y_new}\")\n",
    "print(f\"Logistic Regression Prediction for xi=9: {logistic_reg_y_new}\")\n"
   ]
  },
  {
   "cell_type": "code",
   "execution_count": null,
   "id": "8e954f61-32e7-4a53-9472-33d4f8441340",
   "metadata": {},
   "outputs": [],
   "source": []
  }
 ],
 "metadata": {
  "kernelspec": {
   "display_name": "Python 3 (ipykernel)",
   "language": "python",
   "name": "python3"
  },
  "language_info": {
   "codemirror_mode": {
    "name": "ipython",
    "version": 3
   },
   "file_extension": ".py",
   "mimetype": "text/x-python",
   "name": "python",
   "nbconvert_exporter": "python",
   "pygments_lexer": "ipython3",
   "version": "3.10.12"
  }
 },
 "nbformat": 4,
 "nbformat_minor": 5
}
