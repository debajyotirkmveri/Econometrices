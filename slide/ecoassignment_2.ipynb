{
 "cells": [
  {
   "cell_type": "markdown",
   "id": "d1d936a9-b41e-4609-95e4-ea758c13cc68",
   "metadata": {},
   "source": [
    "# Question 1"
   ]
  },
  {
   "cell_type": "code",
   "execution_count": 1,
   "id": "9a29688e-d3d0-448b-a92f-12571b0d2c48",
   "metadata": {},
   "outputs": [],
   "source": [
    "import numpy as np"
   ]
  },
  {
   "cell_type": "code",
   "execution_count": 2,
   "id": "ba1cca93-e96f-41e0-b041-614bb63b3d42",
   "metadata": {},
   "outputs": [
    {
     "data": {
      "text/plain": [
       "12"
      ]
     },
     "execution_count": 2,
     "metadata": {},
     "output_type": "execute_result"
    }
   ],
   "source": [
    "yt = np.array([3,7,-4,-6,1,9,-3,-7,1,9,-3,-7])\n",
    "len(yt)"
   ]
  },
  {
   "cell_type": "code",
   "execution_count": 3,
   "id": "a90b2d7a-cf5a-44d2-965e-3d70be526f9b",
   "metadata": {},
   "outputs": [
    {
     "data": {
      "text/plain": [
       "array([ 1,  2,  3,  4,  5,  6,  7,  8,  9, 10, 11, 12])"
      ]
     },
     "execution_count": 3,
     "metadata": {},
     "output_type": "execute_result"
    }
   ],
   "source": [
    "time = np.array([1,2,3,4,5,6,7,8,9,10,11,12]) \n",
    "time"
   ]
  },
  {
   "cell_type": "code",
   "execution_count": 4,
   "id": "f3d93105-44fa-448e-8b7b-b1c9e0ddfa6d",
   "metadata": {},
   "outputs": [
    {
     "data": {
      "text/plain": [
       "12"
      ]
     },
     "execution_count": 4,
     "metadata": {},
     "output_type": "execute_result"
    }
   ],
   "source": [
    "forecast_1 = np.array([2,4,-3,-4,0,12,-6,-4,4,15,-1,-11])\n",
    "len(forecast_1)"
   ]
  },
  {
   "cell_type": "code",
   "execution_count": 5,
   "id": "0cb175ac-5bba-4882-8dbc-8d2fdd457da2",
   "metadata": {},
   "outputs": [
    {
     "data": {
      "text/plain": [
       "12"
      ]
     },
     "execution_count": 5,
     "metadata": {},
     "output_type": "execute_result"
    }
   ],
   "source": [
    "forecast_2 = np.array([7,9,-8,-10,7,9,-8,-10,7,9,-8,-10])\n",
    "len(forecast_2)"
   ]
  },
  {
   "cell_type": "code",
   "execution_count": null,
   "id": "603d9a20-9ce9-4423-bfb9-87e4ab2b675b",
   "metadata": {},
   "outputs": [],
   "source": [
    "import numpy as np\n",
    "\n",
    "# Forecasted values using Method 1 and Method 2\n",
    "forecast_1 = np.array([2, 9, -3, -4, 0, 12, -6, -4, 7, 9, -1, -11])\n",
    "forecast_2 = np.array([7, 7, -8, -10, 7, 9, -8, -10, 7, 15, -8, -10])\n",
    "\n",
    "# Actual values\n",
    "actual = np.array([3, 4, -4, -6, 1, 9, -3, -7, 4, 9, -3, -11])\n",
    "\n",
    "# Compute forecast errors for both methods\n",
    "forecast_errors_1 = np.sum(np.abs(actual - forecast_1))\n",
    "forecast_errors_2 = np.sum(np.abs(actual - forecast_2))\n",
    "\n",
    "\n",
    "# Compute forecast errors only using the last four observations\n",
    "last_four_forecast_errors_1 = forecast_errors_1[-4:]\n",
    "last_four_forecast_errors_2 = forecast_errors_2[-4:]\n",
    "\n",
    "# Forecast using a linear trend model\n",
    "def linear_trend_forecast(t, actual):\n",
    "  \"\"\"Forecasts the value of the time series at time t using a linear trend model.\"\"\"\n",
    "\n",
    "  slope = (actual[-1] - actual[0]) / (len(actual) - 1)\n",
    "  intercept = actual[0]\n",
    "\n",
    "  forecast = intercept + slope * t\n",
    "  return forecast\n",
    "\n",
    "linear_trend_forecast_values = linear_trend_forecast(np.arange(1, 13), actual)\n",
    "\n",
    "# Compare the forecast errors of all three methods\n",
    "def mean_absolute_error(errors):\n",
    "  \"\"\"Computes the mean absolute error.\"\"\"\n",
    "\n",
    "  mae = np.mean(np.abs(errors))\n",
    "  return mae\n",
    "\n",
    "mae_1 = mean_absolute_error(forecast_errors_1)\n",
    "mae_2 = mean_absolute_error(forecast_errors_2)\n",
    "mae_linear_trend = mean_absolute_error(linear_trend_forecast_values - actual)\n",
    "\n",
    "# Print the results\n",
    "print(\"Mean absolute error of Method 1:\", mae_1)\n",
    "print(\"Mean absolute error of Method 2:\", mae_2)\n",
    "print(\"Mean absolute error of linear trend model:\", mae_linear_trend)\n",
    "\n",
    "# Determine the best forecasting method\n",
    "best_method = \"linear trend model\" if mae_linear_trend < min(mae_1, mae_2) else \"Method 1\" if mae_1 < mae_2 else \"Method 2\"\n",
    "\n",
    "print(\"The best forecasting method is:\", best_method)\n"
   ]
  },
  {
   "cell_type": "markdown",
   "id": "0b5e4c37-07bb-4e64-8870-e64569eb53ac",
   "metadata": {},
   "source": [
    "# 1)a)"
   ]
  },
  {
   "cell_type": "code",
   "execution_count": 6,
   "id": "dc137af2-bb6a-43a6-a891-0b6846b298da",
   "metadata": {},
   "outputs": [
    {
     "name": "stdout",
     "output_type": "stream",
     "text": [
      "Method 1 has a lower Mean Squared Error and is better.\n"
     ]
    }
   ],
   "source": [
    "import numpy as np\n",
    "\n",
    "# Given data\n",
    "yt = np.array([3, 7, -4, -6, 1, 9, -3, -7, 1, 9, -3, -7])\n",
    "forecast_1 = np.array([2, 4, -3, -4, 0, 12, -6, -4, 4, 15, -1, -11])\n",
    "forecast_2 = np.array([7, 9, -8, -10, 7, 9, -8, -10, 7, 9, -8, -10])\n",
    "\n",
    "# Calculate Mean Squared Error (MSE) for both methods\n",
    "mse_1 = np.mean((yt - forecast_1) ** 2)\n",
    "mse_2 = np.mean((yt - forecast_2) ** 2)\n",
    "\n",
    "# Compare methods\n",
    "if mse_1 < mse_2:\n",
    "    print(\"Method 1 has a lower Mean Squared Error and is better.\")\n",
    "elif mse_2 < mse_1:\n",
    "    print(\"Method 2 has a lower Mean Squared Error and is better.\")\n",
    "else:\n",
    "    print(\"Both methods have equal Mean Squared Error and are equally good.\")\n"
   ]
  },
  {
   "cell_type": "markdown",
   "id": "811f9ff4-789c-48e7-86fc-36501888128e",
   "metadata": {},
   "source": [
    "# 1)b)"
   ]
  },
  {
   "cell_type": "code",
   "execution_count": 7,
   "id": "b2c0a298-e506-4376-9c1b-3664dd46a275",
   "metadata": {},
   "outputs": [
    {
     "name": "stdout",
     "output_type": "stream",
     "text": [
      "Forecast Errors for Method 1: 32\n",
      "Forecast Errors for Method 2: 42\n"
     ]
    }
   ],
   "source": [
    "forecast_error_1 = np.sum( np.abs(yt - forecast_1))\n",
    "forecast_error_2 = np.sum(np.abs(yt - forecast_2))\n",
    "print(\"Forecast Errors for Method 1:\", forecast_error_1)\n",
    "print(\"Forecast Errors for Method 2:\", forecast_error_2)\n"
   ]
  },
  {
   "cell_type": "code",
   "execution_count": null,
   "id": "d8ef65b6-c568-4869-a300-d03bf3331829",
   "metadata": {},
   "outputs": [],
   "source": []
  },
  {
   "cell_type": "markdown",
   "id": "77108ad0-ee5b-4394-944d-3b1792334040",
   "metadata": {},
   "source": [
    "# 1)c)"
   ]
  },
  {
   "cell_type": "code",
   "execution_count": 8,
   "id": "100691a7-dcb1-4a37-82a4-b3cd3b7c7594",
   "metadata": {},
   "outputs": [
    {
     "name": "stdout",
     "output_type": "stream",
     "text": [
      "Forecast Errors (Last Four Observations) for Method 1: 15\n",
      "Forecast Errors (Last Four Observations) for Method 2: 14\n"
     ]
    }
   ],
   "source": [
    "last_four_observation_error_1 = np.sum(np.abs(yt[-4:]  - forecast_1[-4:]))\n",
    "last_four_observation_error_2 = np.sum(np.abs(yt[-4:] - forecast_2[-4:])) \n",
    "print(\"Forecast Errors (Last Four Observations) for Method 1:\", last_four_observation_error_1)\n",
    "print(\"Forecast Errors (Last Four Observations) for Method 2:\", last_four_observation_error_2)\n"
   ]
  },
  {
   "cell_type": "markdown",
   "id": "b7a64938-1285-4f9a-8caf-da0f06ae0fee",
   "metadata": {},
   "source": [
    "# 1)d)"
   ]
  },
  {
   "cell_type": "code",
   "execution_count": 9,
   "id": "fea54915-827d-4c3f-baec-1e877e609bc3",
   "metadata": {},
   "outputs": [
    {
     "data": {
      "text/plain": [
       "array([ 2.11538462,  1.73076923,  1.34615385,  0.96153846,  0.57692308,\n",
       "        0.19230769, -0.19230769, -0.57692308, -0.96153846, -1.34615385,\n",
       "       -1.73076923, -2.11538462])"
      ]
     },
     "execution_count": 9,
     "metadata": {},
     "output_type": "execute_result"
    }
   ],
   "source": [
    "linear_trend_model = np.polyfit(range(1, 13), yt, 1)\n",
    "linear_trend_forecast = np.polyval(linear_trend_model, range(1, 13)) \n",
    "linear_trend_forecast"
   ]
  },
  {
   "cell_type": "code",
   "execution_count": 10,
   "id": "80ef2a5a-a4f3-4c3b-a8e2-da10647bc9ad",
   "metadata": {},
   "outputs": [
    {
     "name": "stdout",
     "output_type": "stream",
     "text": [
      "Linear Trend Model does not have the lowest Mean Squared Error.\n"
     ]
    }
   ],
   "source": [
    "linear_trend_model = np.polyfit(range(1, 13), yt, 1)\n",
    "linear_trend_forecast = np.polyval(linear_trend_model, range(1, 13))\n",
    "\n",
    "# Calculate Mean Squared Error (MSE) for the linear trend model\n",
    "mse_linear_trend = np.mean((yt - linear_trend_forecast) ** 2)\n",
    "\n",
    "# Compare with previous methods\n",
    "if mse_linear_trend < mse_1 and mse_linear_trend < mse_2:\n",
    "    print(\"Linear Trend Model has the lowest Mean Squared Error.\")\n",
    "else:\n",
    "    print(\"Linear Trend Model does not have the lowest Mean Squared Error.\")\n"
   ]
  },
  {
   "cell_type": "code",
   "execution_count": 11,
   "id": "2c6e3623-4fe0-4ead-ae1f-167d30e03a2e",
   "metadata": {},
   "outputs": [
    {
     "name": "stdout",
     "output_type": "stream",
     "text": [
      "MSE for Linear Trend Model: 30.737179487179485\n"
     ]
    }
   ],
   "source": [
    "from sklearn.linear_model import LinearRegression\n",
    "\n",
    "# Creating a linear trend model\n",
    "X = np.arange(1, len(yt) + 1).reshape(-1, 1)\n",
    "model = LinearRegression().fit(X, yt)\n",
    "\n",
    "# Forecasting for t = 1 to 12\n",
    "forecast_linear_trend = model.predict(np.arange(1, 13).reshape(-1, 1))\n",
    "\n",
    "# Compare with previous methods\n",
    "mse_linear_trend = np.mean((yt - forecast_linear_trend[:len(yt)])**2)\n",
    "\n",
    "print(\"MSE for Linear Trend Model:\", mse_linear_trend)\n"
   ]
  },
  {
   "cell_type": "markdown",
   "id": "6a7f9eb5-a013-4107-b62d-f74af6b0f39d",
   "metadata": {},
   "source": [
    "# 1)e)"
   ]
  },
  {
   "cell_type": "code",
   "execution_count": 12,
   "id": "8d71b96c-9a7b-470e-bf76-d174be51ddfa",
   "metadata": {},
   "outputs": [
    {
     "name": "stdout",
     "output_type": "stream",
     "text": [
      "Optimal value of smoothing parameter alpha: 0.1\n"
     ]
    },
    {
     "name": "stderr",
     "output_type": "stream",
     "text": [
      "/home/sysadm/.local/lib/python3.10/site-packages/pandas/util/_decorators.py:210: EstimationWarning: Model has no free parameters to estimate. Set optimized=False to suppress this warning\n",
      "  return func(*args, **kwargs)\n",
      "/home/sysadm/.local/lib/python3.10/site-packages/pandas/util/_decorators.py:210: EstimationWarning: Model has no free parameters to estimate. Set optimized=False to suppress this warning\n",
      "  return func(*args, **kwargs)\n"
     ]
    }
   ],
   "source": [
    "import pandas as pd\n",
    "from statsmodels.tsa.holtwinters import SimpleExpSmoothing\n",
    "\n",
    "alphas = [0.1, 0.3]\n",
    "mse_values = []\n",
    "\n",
    "for alpha in alphas:\n",
    "    model = SimpleExpSmoothing(yt).fit(smoothing_level=alpha)\n",
    "    forecast = model.forecast(12)\n",
    "    mse = np.mean((yt - forecast) ** 2)\n",
    "    mse_values.append(mse)\n",
    "\n",
    "optimal_alpha = alphas[np.argmin(mse_values)]\n",
    "print(\"Optimal value of smoothing parameter alpha:\", optimal_alpha)\n"
   ]
  },
  {
   "cell_type": "code",
   "execution_count": 13,
   "id": "bb633f02-511d-406c-a26e-0d3eb1e83548",
   "metadata": {},
   "outputs": [
    {
     "name": "stdout",
     "output_type": "stream",
     "text": [
      "Optimal value of smoothing parameter alpha: 0.1\n"
     ]
    },
    {
     "name": "stderr",
     "output_type": "stream",
     "text": [
      "/home/sysadm/.local/lib/python3.10/site-packages/pandas/util/_decorators.py:210: EstimationWarning: Model has no free parameters to estimate. Set optimized=False to suppress this warning\n",
      "  return func(*args, **kwargs)\n",
      "/home/sysadm/.local/lib/python3.10/site-packages/pandas/util/_decorators.py:210: EstimationWarning: Model has no free parameters to estimate. Set optimized=False to suppress this warning\n",
      "  return func(*args, **kwargs)\n"
     ]
    }
   ],
   "source": [
    "import pandas as pd\n",
    "from statsmodels.tsa.holtwinters import SimpleExpSmoothing\n",
    "\n",
    "alphas = [0.1, 0.3]\n",
    "mse_values = []\n",
    "\n",
    "for alpha in alphas:\n",
    "    model = SimpleExpSmoothing(yt).fit(smoothing_level=alpha)\n",
    "    forecast = model.forecast(12)\n",
    "    mse = np.mean((yt - forecast) ** 2)\n",
    "    mse_values.append(mse)\n",
    "\n",
    "optimal_alpha = alphas[np.argmin(mse_values)]\n",
    "print(\"Optimal value of smoothing parameter alpha:\", optimal_alpha)\n"
   ]
  },
  {
   "cell_type": "code",
   "execution_count": 14,
   "id": "da4b061d-c4dd-4ecb-b970-d891b4fb3ed4",
   "metadata": {},
   "outputs": [
    {
     "name": "stdout",
     "output_type": "stream",
     "text": [
      "Optimal value of smoothing parameter alpha: 0.1\n"
     ]
    },
    {
     "name": "stderr",
     "output_type": "stream",
     "text": [
      "/home/sysadm/.local/lib/python3.10/site-packages/pandas/util/_decorators.py:210: EstimationWarning: Model has no free parameters to estimate. Set optimized=False to suppress this warning\n",
      "  return func(*args, **kwargs)\n",
      "/home/sysadm/.local/lib/python3.10/site-packages/pandas/util/_decorators.py:210: EstimationWarning: Model has no free parameters to estimate. Set optimized=False to suppress this warning\n",
      "  return func(*args, **kwargs)\n"
     ]
    }
   ],
   "source": [
    "from statsmodels.tsa.holtwinters import SimpleExpSmoothing\n",
    "\n",
    "# Function to calculate MSE for given alpha\n",
    "def calculate_mse(alpha):\n",
    "    model = SimpleExpSmoothing(yt).fit(smoothing_level=alpha)\n",
    "    forecast_exp_smooth = model.forecast(12)\n",
    "    mse = np.mean((yt - forecast_exp_smooth[:len(yt)])**2)\n",
    "    return mse\n",
    "\n",
    "# Test with alpha values 0.1 and 0.3\n",
    "mse_alpha_0_1 = calculate_mse(0.1)\n",
    "mse_alpha_0_3 = calculate_mse(0.3)\n",
    "\n",
    "optimal_alpha = 0.1 if mse_alpha_0_1 < mse_alpha_0_3 else 0.3\n",
    "print(\"Optimal value of smoothing parameter alpha:\", optimal_alpha)\n"
   ]
  },
  {
   "cell_type": "markdown",
   "id": "9dfa59ed-f241-416a-b97f-ded092c4a58c",
   "metadata": {},
   "source": [
    "# 1)f)"
   ]
  },
  {
   "cell_type": "code",
   "execution_count": 15,
   "id": "9f6daec5-e878-4404-9d8b-3d8b2a59687d",
   "metadata": {},
   "outputs": [
    {
     "name": "stdout",
     "output_type": "stream",
     "text": [
      "Value of S24: -6.666666666666667\n"
     ]
    }
   ],
   "source": [
    "# (f) What will be the value of S24, where St denotes the seasonality of yt at t?\n",
    "# Assuming a quarterly seasonality pattern\n",
    "\n",
    "# Identify the quarter for time t=24\n",
    "quarter_24 = (24 - 1) % 4 + 1  # Assuming time starts from 1\n",
    "\n",
    "# Filter data points corresponding to the identified quarter\n",
    "quarter_data = yt[np.arange(len(yt)) % 4 == (quarter_24 - 1)]\n",
    "\n",
    "# Compute the average for the identified quarter\n",
    "S24 = np.mean(quarter_data)\n",
    "\n",
    "print(\"Value of S24:\", S24)\n"
   ]
  },
  {
   "cell_type": "code",
   "execution_count": null,
   "id": "199571d8-43f0-4d83-88e4-67e473e724a4",
   "metadata": {},
   "outputs": [],
   "source": []
  },
  {
   "cell_type": "markdown",
   "id": "27fda870-3a51-42bb-8b84-680582129d69",
   "metadata": {},
   "source": [
    "# 1)g)"
   ]
  },
  {
   "cell_type": "code",
   "execution_count": 27,
   "id": "05d289b9-3e0b-48a4-a6af-e8705c119c04",
   "metadata": {},
   "outputs": [],
   "source": [
    "import matplotlib.pyplot as plt"
   ]
  },
  {
   "cell_type": "code",
   "execution_count": 29,
   "id": "980eb510-2c12-4e52-8123-c10f92b7c439",
   "metadata": {},
   "outputs": [
    {
     "data": {
      "image/png": "[encoded data removed]",
      "text/plain": [
       "<Figure size 640x480 with 1 Axes>"
      ]
     },
     "metadata": {},
     "output_type": "display_data"
    }
   ],
   "source": [
    "model_ar = ARIMA(yt, order=(4, 0, 0))\n",
    "result_ar = model_ar.fit()\n",
    "forecast_ar = result_ar.get_forecast(steps=12).predicted_mean\n",
    "\n",
    "# Compare with previous methods\n",
    "plt.plot(yt, label='Actual')\n",
    "plt.plot(forecast_1, label='Method 1 Forecast')\n",
    "plt.plot(forecast_2, label='Method 2 Forecast')\n",
    "plt.plot(linear_trend_forecast, label='Linear Trend Model Forecast')\n",
    "plt.plot(forecast_ar, label='AR(4) Model Forecast')\n",
    "plt.legend()\n",
    "plt.title('Comparison of Forecasting Methods')\n",
    "plt.xlabel('Time (t)')\n",
    "plt.ylabel('Value')\n",
    "plt.show()"
   ]
  },
  {
   "cell_type": "code",
   "execution_count": null,
   "id": "9dfc57bd-f9de-49b5-b3ce-8eaa2e95fdab",
   "metadata": {},
   "outputs": [],
   "source": []
  },
  {
   "cell_type": "markdown",
   "id": "49fffd3e-736b-4f64-b95b-78959e8f3597",
   "metadata": {},
   "source": [
    "# 2)"
   ]
  },
  {
   "cell_type": "raw",
   "id": "ca1a7f44-0a3f-4d1b-b8d2-563064d14306",
   "metadata": {},
   "source": [
    "Let {yt } be a time series such that\n",
    "yt = β1 sin (2πωt) + β2 cos (2πωt) + εt + 0.5εt−1 ,\n",
    "where εt ∼ W N (0, σ 2 ), and ω, β1 , β2 are constant. Find the mean, variance, γ(1) and\n",
    "ρ(2) for yt ."
   ]
  },
  {
   "cell_type": "code",
   "execution_count": 19,
   "id": "79593744-e872-43f0-a539-b9455b4610a4",
   "metadata": {},
   "outputs": [
    {
     "name": "stdout",
     "output_type": "stream",
     "text": [
      "Mean: 0.004861614106133821\n",
      "Variance: 5.071357455752856\n",
      "Gamma(1): -0.6640165167147999\n",
      "Rho(2): 0.7532902792553617\n"
     ]
    }
   ],
   "source": [
    "import numpy as np\n",
    "\n",
    "def arma_model(beta1, beta2, omega, sigma, T):\n",
    "    # Initialize time series\n",
    "    yt = np.zeros(T)\n",
    "\n",
    "    # Generate error terms\n",
    "    et = np.random.normal(0, sigma, T)\n",
    "\n",
    "    # Generate time series\n",
    "    for t in range(T):\n",
    "        if t == 0:\n",
    "            yt[t] = beta1 * np.sin(2 * np.pi * omega * t) + beta2 * np.cos(2 * np.pi * omega * t) + et[t]\n",
    "        else:\n",
    "            yt[t] = beta1 * np.sin(2 * np.pi * omega * t) + beta2 * np.cos(2 * np.pi * omega * t) + et[t] + 0.5 * et[t - 1]\n",
    "\n",
    "    return yt\n",
    "\n",
    "# Set parameters\n",
    "beta1 = 1\n",
    "beta2 = 2\n",
    "omega = 0.5\n",
    "sigma = 1\n",
    "T = 100\n",
    "\n",
    "# Generate time series\n",
    "yt = arma_model(beta1, beta2, omega, sigma, T)\n",
    "\n",
    "# Calculate mean\n",
    "mean = np.mean(yt)\n",
    "\n",
    "# Calculate variance\n",
    "variance = np.var(yt)\n",
    "\n",
    "# Calculate gamma(1)\n",
    "gamma1 = np.corrcoef(yt[1:], yt[:-1])[0, 1]\n",
    "\n",
    "# Calculate rho(2)\n",
    "rho2 = np.corrcoef(yt[2:], yt[:-2])[0, 1]\n",
    "\n",
    "# Print results\n",
    "print(\"Mean:\", mean)\n",
    "print(\"Variance:\", variance)\n",
    "print(\"Gamma(1):\", gamma1)\n",
    "print(\"Rho(2):\", rho2)\n"
   ]
  },
  {
   "cell_type": "markdown",
   "id": "d8b0da03-928f-452b-a152-c7e9b74a9b2a",
   "metadata": {},
   "source": [
    "# 3)"
   ]
  },
  {
   "cell_type": "code",
   "execution_count": null,
   "id": "04e21370-395a-4779-b0c7-b0174efe0149",
   "metadata": {},
   "outputs": [],
   "source": []
  },
  {
   "cell_type": "code",
   "execution_count": null,
   "id": "cef292f6-d7e6-4ced-9fb2-fb055f0e1d8e",
   "metadata": {},
   "outputs": [],
   "source": []
  },
  {
   "cell_type": "code",
   "execution_count": null,
   "id": "ec17a0b4-6a92-4ef1-af9b-719580e08c27",
   "metadata": {},
   "outputs": [],
   "source": []
  },
  {
   "cell_type": "code",
   "execution_count": null,
   "id": "2e5d2151-5bb9-4612-b8cd-bc4f61044ca3",
   "metadata": {},
   "outputs": [],
   "source": []
  }
 ],
 "metadata": {
  "kernelspec": {
   "display_name": "Python 3 (ipykernel)",
   "language": "python",
   "name": "python3"
  },
  "language_info": {
   "codemirror_mode": {
    "name": "ipython",
    "version": 3
   },
   "file_extension": ".py",
   "mimetype": "text/x-python",
   "name": "python",
   "nbconvert_exporter": "python",
   "pygments_lexer": "ipython3",
   "version": "3.10.12"
  }
 },
 "nbformat": 4,
 "nbformat_minor": 5
}
